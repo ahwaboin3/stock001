{
 "cells": [
  {
   "cell_type": "code",
   "execution_count": null,
   "metadata": {},
   "outputs": [
    {
     "name": "stdout",
     "output_type": "stream",
     "text": [
      "  |  2025.01.15\n",
      "20250115\n"
     ]
    }
   ],
   "source": [
    "# 최근 영업일 가져오기\n",
    "import requests as rq\n",
    "from bs4 import BeautifulSoup\n",
    "\n",
    "url = 'https://finance.naver.com/sise/sise_deposit.nhn'\n",
    "data = rq.get(url)\n",
    "data_html = BeautifulSoup(data.content)\n",
    "parse_day = data_html.select_one(\n",
    "    'div.subtop_sise_graph2 > ul.subtop_chart_note > li > span.tah').text\n",
    "\n",
    "print(parse_day)\n",
    "\n",
    "import re\n",
    "\n",
    "biz_day = re.findall('[0-9]+', parse_day)\n",
    "biz_day = ''.join(biz_day)\n",
    "\n",
    "print(biz_day)"
   ]
  },
  {
   "cell_type": "code",
   "execution_count": null,
   "metadata": {},
   "outputs": [
    {
     "name": "stderr",
     "output_type": "stream",
     "text": [
      "100%|██████████| 10/10 [00:22<00:00,  2.22s/it]\n"
     ]
    }
   ],
   "source": [
    "# WICS 기준 섹터 정보 크롤링\n",
    "import time\n",
    "import json\n",
    "import requests as rq\n",
    "import pandas as pd\n",
    "from tqdm import tqdm\n",
    "\n",
    "sector_code = [\n",
    "    'G25', 'G35', 'G50', 'G40', 'G10', 'G20', 'G55', 'G30', 'G15', 'G45'\n",
    "]\n",
    "\n",
    "data_sector = []\n",
    "\n",
    "for i in tqdm(sector_code):\n",
    "    url = f'''http://www.wiseindex.com/Index/GetIndexComponets?ceil_yn=0&dt={biz_day}&sec_cd={i}'''    \n",
    "    data = rq.get(url).json()\n",
    "    data_pd = pd.json_normalize(data['list'])\n",
    "\n",
    "    data_sector.append(data_pd)\n",
    "\n",
    "    time.sleep(2)\n",
    "\n",
    "kor_sector = pd.concat(data_sector, axis = 0)\n",
    "kor_sector = kor_sector[['IDX_CD', 'CMP_CD', 'CMP_KOR', 'SEC_NM_KOR']]\n",
    "kor_sector['기준일'] = biz_day\n",
    "kor_sector['기준일'] = pd.to_datetime(kor_sector['기준일'])"
   ]
  },
  {
   "cell_type": "code",
   "execution_count": 3,
   "metadata": {},
   "outputs": [
    {
     "data": {
      "text/plain": [
       "'db 저장 성공'"
      ]
     },
     "execution_count": 3,
     "metadata": {},
     "output_type": "execute_result"
    }
   ],
   "source": [
    "import pymysql\n",
    "\n",
    "con = pymysql.connect(user='root',\n",
    "                      passwd='1234',\n",
    "                      host='127.0.0.1',\n",
    "                      db='stock_db',\n",
    "                      charset='utf8')\n",
    "\n",
    "mycursor = con.cursor()\n",
    "query = f\"\"\"\n",
    "    insert into kor_sector (IDX_CD, CMP_CD, CMP_KOR, SEC_NM_KOR, 기준일)\n",
    "    values (%s,%s,%s,%s,%s) as new\n",
    "    on duplicate key update\n",
    "    IDX_CD = new.IDX_CD, CMP_KOR = new.CMP_KOR, SEC_NM_KOR = new.SEC_NM_KOR\n",
    "\"\"\"\n",
    "\n",
    "args = kor_sector.values.tolist()\n",
    "\n",
    "mycursor.executemany(query, args)\n",
    "con.commit()\n",
    "\n",
    "con.close()\n",
    "\n",
    "\"db 저장 성공\""
   ]
  }
 ],
 "metadata": {
  "kernelspec": {
   "display_name": ".venv",
   "language": "python",
   "name": "python3"
  },
  "language_info": {
   "codemirror_mode": {
    "name": "ipython",
    "version": 3
   },
   "file_extension": ".py",
   "mimetype": "text/x-python",
   "name": "python",
   "nbconvert_exporter": "python",
   "pygments_lexer": "ipython3",
   "version": "3.13.1"
  }
 },
 "nbformat": 4,
 "nbformat_minor": 2
}
